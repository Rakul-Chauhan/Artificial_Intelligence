{
  "cells": [
    {
      "cell_type": "markdown",
      "metadata": {
        "id": "2eJpg4CzEFaX"
      },
      "source": [
        "# **Installing Necessary Libraries**"
      ]
    },
    {
      "cell_type": "code",
      "execution_count": null,
      "metadata": {
        "id": "LQooVR8SXXSL"
      },
      "outputs": [],
      "source": [
        "%pip install geneticalgorithm\n",
        "%pip install pyswarms"
      ]
    },
    {
      "cell_type": "markdown",
      "metadata": {
        "id": "7ysEtWQCYZKM"
      },
      "source": [
        "# **Importing Libraries**"
      ]
    },
    {
      "cell_type": "code",
      "execution_count": null,
      "metadata": {
        "id": "-Fk2ZWl_fPj0"
      },
      "outputs": [],
      "source": [
        "import pandas as pd\n",
        "import numpy as np\n",
        "import random\n",
        "from sklearn.datasets import load_breast_cancer\n",
        "from sklearn.model_selection import train_test_split\n",
        "from sklearn.preprocessing import StandardScaler\n",
        "from sklearn.linear_model import Ridge\n",
        "from sklearn.metrics import mean_squared_error\n",
        "from sklearn.metrics import accuracy_score\n",
        "from geneticalgorithm import geneticalgorithm as ga\n",
        "import pyswarms as ps\n",
        "from pyswarms.utils.functions import single_obj as fx\n",
        "import time\n",
        "import matplotlib.pyplot as plt"
      ]
    },
    {
      "cell_type": "markdown",
      "metadata": {
        "id": "Wkt3XQBYfMNz"
      },
      "source": [
        "# **Fetching Dataset**"
      ]
    },
    {
      "cell_type": "code",
      "execution_count": null,
      "metadata": {
        "colab": {
          "base_uri": "https://localhost:8080/"
        },
        "id": "MGBF9apadLGA",
        "outputId": "ef7836d7-bbfa-4004-c62c-933a2fec0cb3"
      },
      "outputs": [],
      "source": [
        "'''\n",
        "    Breast Cancer Wisconsin (Diagnostic): https://archive.ics.uci.edu/dataset/17/breast+cancer+wisconsin+diagnostic\n",
        "'''\n",
        "# Load the breast cancer dataset\n",
        "data = load_breast_cancer()\n",
        "X = data.data\n",
        "y = data.target\n",
        "\n",
        "df = pd.DataFrame(X)\n",
        "print(df[:3])\n",
        "\n",
        "# Split the dataset into training and testing sets\n",
        "X_train, X_test, y_train, y_test = train_test_split(X, y, test_size=0.3, random_state=42)\n",
        "d = X_train.shape\n",
        "print(\"Training Data Shape:\", d)\n",
        "\n",
        "# Standardize the features\n",
        "scaler = StandardScaler()\n",
        "X_train = scaler.fit_transform(X_train)\n",
        "X_test = scaler.transform(X_test)"
      ]
    },
    {
      "cell_type": "markdown",
      "metadata": {
        "id": "RINetmb2c2Az"
      },
      "source": [
        "# **Genetic Algorithm**"
      ]
    },
    {
      "cell_type": "markdown",
      "metadata": {
        "id": "b-YpqfbFiJhT"
      },
      "source": [
        "### Necessary Fuctions"
      ]
    },
    {
      "cell_type": "code",
      "execution_count": null,
      "metadata": {
        "id": "4oFJgQdgRZ9s"
      },
      "outputs": [],
      "source": [
        "# Define the fitness function\n",
        "def fitness_function(selected_features):\n",
        "    selected_indices = np.where(selected_features)[0]\n",
        "    if len(selected_indices) == 0:\n",
        "        return float('inf')  # Return a large value if no features are selected\n",
        "\n",
        "    # Train a Ridge Regression model and evaluate its mean squared error\n",
        "    model = Ridge(alpha=1.0)\n",
        "    model.fit(X_train[:, selected_indices], y_train)\n",
        "    y_pred = model.predict(X_test[:, selected_indices])\n",
        "    mse = mean_squared_error(y_test, y_pred)\n",
        "\n",
        "    return mse"
      ]
    },
    {
      "cell_type": "markdown",
      "metadata": {
        "id": "iAVTQBnaRd2W"
      },
      "source": [
        "### Declaring Variables"
      ]
    },
    {
      "cell_type": "code",
      "execution_count": null,
      "metadata": {
        "id": "ks5XSZAORSp4"
      },
      "outputs": [],
      "source": [
        "iterations = [20, 40, 60, 80, 100]\n",
        "# iterations = [100, 200, 300, 400, 500]\n",
        "\n",
        "# Lists to store times, mse and count of feature for iterations\n",
        "times_ga = []\n",
        "mse_list_ga = []\n",
        "feature_count_ga = []\n",
        "\n",
        "# Create a Genetic Algorithm optimizer\n",
        "varbound = np.array([[0, 1]] * X_train.shape[1])  # Define bounds for feature selection\n",
        "algorithm_param = {\n",
        "    'max_num_iteration': 100,\n",
        "    'population_size': 10,\n",
        "    'mutation_probability': 0.1,\n",
        "    'elit_ratio': 0.01,\n",
        "    'crossover_probability': 0.5,\n",
        "    'crossover_type': 'uniform',\n",
        "    'max_iteration_without_improv': None,\n",
        "    'parents_portion': 0.3\n",
        "}"
      ]
    },
    {
      "cell_type": "markdown",
      "metadata": {
        "id": "4PLCAhpIRej7"
      },
      "source": [
        "### GA Implementation using Ridge Regression"
      ]
    },
    {
      "cell_type": "code",
      "execution_count": null,
      "metadata": {
        "colab": {
          "base_uri": "https://localhost:8080/",
          "height": 1000
        },
        "id": "XfHjrKWXXIS3",
        "outputId": "a222e4c9-d5b2-44b3-81d1-10be48d1fab4"
      },
      "outputs": [],
      "source": [
        "# Create a Genetic Algorithm optimizer\n",
        "varbound = np.array([[0, 1]] * X_train.shape[1])  # Define bounds for feature selection\n",
        "\n",
        "for i in range(len(iterations)):\n",
        "    start_time = time.time()\n",
        "\n",
        "    # GA Implementation\n",
        "    model = ga(function=fitness_function, dimension=X_train.shape[1], variable_type='bool', variable_boundaries=varbound, algorithm_parameters=algorithm_param)\n",
        "\n",
        "    # Run the optimization\n",
        "    model.run()\n",
        "\n",
        "    # Get the selected features\n",
        "    selected_features = model.output_dict['variable']\n",
        "\n",
        "    end_time = time.time()\n",
        "\n",
        "    times_ga.append(end_time - start_time)\n",
        "\n",
        "    # Print the selected feature indices\n",
        "    selected_indices = np.where(selected_features)[0]\n",
        "    print(\"\\n\\nInitial number of features\", d[1])\n",
        "    print(\"Selected number of features\", len(selected_indices))\n",
        "    print(\"Selected feature indices:\", selected_indices)\n",
        "    # Evaluate Ridge Regression on the selected features\n",
        "    model = Ridge(alpha=1.0)\n",
        "    model.fit(X_train[:, selected_indices], y_train)\n",
        "    y_pred = model.predict(X_test[:, selected_indices])\n",
        "    mse = mean_squared_error(y_test, y_pred)\n",
        "\n",
        "    print(\"Mean Squared Error on the selected features:\", mse)\n",
        "\n",
        "    mse_list_ga.append(mse)\n",
        "    feature_count_ga.append(len(selected_indices))"
      ]
    },
    {
      "cell_type": "markdown",
      "metadata": {
        "id": "SxxrqzFcl5g8"
      },
      "source": [
        "### Comparative Analysis"
      ]
    },
    {
      "cell_type": "code",
      "execution_count": null,
      "metadata": {
        "colab": {
          "base_uri": "https://localhost:8080/",
          "height": 1000
        },
        "id": "aMc8gONgSVqr",
        "outputId": "7022ae1d-ab71-4eb3-f7ec-af2a37d4c260"
      },
      "outputs": [],
      "source": [
        "# Plot for Times for iterations\n",
        "plt.figure(figsize=(12, 6))\n",
        "plt.plot(iterations, times_ga, marker='o', label='Time')\n",
        "plt.xlabel('Iterations')\n",
        "plt.ylabel('Time (seconds)')\n",
        "plt.title('Times for Iterations')\n",
        "plt.legend()\n",
        "plt.grid()\n",
        "plt.show()\n",
        "\n",
        "print(\"\");\n",
        "\n",
        "# Plot for MSE for iterations\n",
        "plt.figure(figsize=(12, 6))\n",
        "plt.plot(iterations, mse_list_ga, marker='o', label='MSE')\n",
        "plt.xlabel('Iterations')\n",
        "plt.ylabel('MSE')\n",
        "plt.title('MSE for Iterations')\n",
        "plt.legend()\n",
        "plt.grid()\n",
        "plt.show()\n",
        "\n",
        "print(\"\");\n",
        "\n",
        "# Plot for Feature count for iterations\n",
        "plt.figure(figsize=(12, 6))\n",
        "plt.plot(iterations, feature_count_ga, marker='o', label='Features')\n",
        "plt.xlabel('Iterations')\n",
        "plt.ylabel('Feature count')\n",
        "plt.title('Feature count for Iterations')\n",
        "plt.legend()\n",
        "plt.grid()\n",
        "plt.show()"
      ]
    },
    {
      "cell_type": "markdown",
      "metadata": {
        "id": "gOf9OMa5Ylry"
      },
      "source": [
        "# **Particle Swarm Optimization**"
      ]
    },
    {
      "cell_type": "markdown",
      "metadata": {
        "id": "tj1idW-mfJtl"
      },
      "source": [
        "### Necessary Fuctions"
      ]
    },
    {
      "cell_type": "code",
      "execution_count": null,
      "metadata": {
        "id": "wMIqn-MGfO0R"
      },
      "outputs": [],
      "source": [
        "# Define the fitness function for Ridge Regression\n",
        "def ridge_fitness(selected_features):\n",
        "    selected_indices = np.where(selected_features)[0]\n",
        "    if len(selected_indices) == 0:\n",
        "        return float('inf')\n",
        "\n",
        "    model = Ridge(alpha=1.0)\n",
        "    model.fit(X_train[:, selected_indices], y_train)\n",
        "    y_pred = model.predict(X_test[:, selected_indices])\n",
        "    mse = mean_squared_error(y_test, y_pred)\n",
        "\n",
        "    return mse\n",
        "\n",
        "# Create a function for PSO optimization\n",
        "def optimize_with_iterations(iterations):\n",
        "    # Create an instance of the PSO optimizer\n",
        "    optimizer = ps.single.GlobalBestPSO(n_particles=num_particles, dimensions=num_dimensions, options=options)\n",
        "\n",
        "    start_time = time.time()\n",
        "    # Optimize for Ridge Regression\n",
        "    ridge_selected_features = optimizer.optimize(objective_func=ridge_fitness, iters=iterations)\n",
        "    end_time = time.time()\n",
        "\n",
        "    return ridge_selected_features, end_time - start_time"
      ]
    },
    {
      "cell_type": "markdown",
      "metadata": {
        "id": "8J41QX1TesgD"
      },
      "source": [
        "### Declaring Variables"
      ]
    },
    {
      "cell_type": "code",
      "execution_count": null,
      "metadata": {
        "id": "ygSma1DTfVmi"
      },
      "outputs": [],
      "source": [
        "# Set the PSO optimization parameters\n",
        "num_particles = 10\n",
        "num_dimensions = X_train.shape[1]\n",
        "\n",
        "# Create options for PSO optimizer\n",
        "options = {'c1': 0.5, 'c2': 0.3, 'w': 0.9}\n",
        "\n",
        "\n",
        "\n",
        "# Specify the iterations\n",
        "iterations_list = [20, 40, 60, 80, 100]\n",
        "\n",
        "selected_features_list = []\n",
        "execution_time_list_pso = []\n",
        "mse_list_pso = []\n",
        "selected_features_counts_pso = []"
      ]
    },
    {
      "cell_type": "markdown",
      "metadata": {
        "id": "7c37UfJOi5Lh"
      },
      "source": [
        "### PSO Implementation using Ridge Regression"
      ]
    },
    {
      "cell_type": "code",
      "execution_count": null,
      "metadata": {
        "colab": {
          "base_uri": "https://localhost:8080/"
        },
        "id": "r6KTIO-gY3ry",
        "outputId": "bbdffcf8-44cf-41b3-d6e9-9b47c66e2510"
      },
      "outputs": [],
      "source": [
        "for iterations in iterations_list:\n",
        "    ridge_selected_features, exec_time = optimize_with_iterations(iterations)\n",
        "    selected_features_list.append(ridge_selected_features)\n",
        "    execution_time_list_pso.append(exec_time)\n",
        "\n",
        "    # Convert the tuple to a NumPy array\n",
        "    ridge_selected_features = np.array(ridge_selected_features)\n",
        "\n",
        "    # Calculate MSE for the current set of selected features\n",
        "    selected_indices = np.where(ridge_selected_features.all() > 0.5)[0]\n",
        "    if len(selected_indices) == 0:\n",
        "        mse = float('inf')\n",
        "    else:\n",
        "        model = Ridge(alpha=1.0)\n",
        "        model.fit(X_train[:, selected_indices], y_train)\n",
        "        y_pred = model.predict(X_test[:, selected_indices])\n",
        "        mse = mean_squared_error(y_test, y_pred)\n",
        "\n",
        "    mse_list_pso.append(mse)\n",
        "\n",
        "# Convert the results to NumPy arrays\n",
        "selected_features_list = np.array(selected_features_list, dtype=object)\n",
        "\n",
        "# Print selected feature indices and MSE for Ridge Regression\n",
        "for i, iterations in enumerate(iterations_list):\n",
        "    ridge_selected_features = []\n",
        "    k = 0\n",
        "    for it in selected_features_list[i][1]:\n",
        "        if(it > 0.5):\n",
        "            ridge_selected_features.append(k)\n",
        "        k = k + 1\n",
        "    print(\"\\nNumber of iterations:\", iterations)\n",
        "    print(\"Initial number of features:\", d[1])\n",
        "    print(\"Selected number of features for Ridge Regression:\", len(ridge_selected_features))\n",
        "    selected_features_counts_pso.append(len(ridge_selected_features))\n",
        "    print(\"Selected feature indices for Ridge Regression:\", ridge_selected_features)\n",
        "    print(\"Mean Squared Error:\", mse_list_pso[i])\n"
      ]
    },
    {
      "cell_type": "markdown",
      "metadata": {
        "id": "OuFgmqqIKDIy"
      },
      "source": [
        "### Comparative Analysis"
      ]
    },
    {
      "cell_type": "code",
      "execution_count": null,
      "metadata": {
        "colab": {
          "base_uri": "https://localhost:8080/",
          "height": 1000
        },
        "id": "ANPa_wXnKQdQ",
        "outputId": "b4c1e8ab-e3d9-410c-eb0e-33cf5cde1dcb"
      },
      "outputs": [],
      "source": [
        "# Plot the results\n",
        "# Number of Iterations vs Selected no. of Features\n",
        "plt.figure(figsize=(12, 6))\n",
        "plt.plot(iterations_list, selected_features_counts_pso, marker='o', label='Features')\n",
        "plt.xlabel(\"Number of Iterations\")\n",
        "plt.ylabel(\"No. of Selected Features\")\n",
        "plt.title(\"Number of Iterations vs No. of Selected Features\")\n",
        "plt.legend()\n",
        "plt.grid()\n",
        "plt.show()\n",
        "\n",
        "print(\"\")\n",
        "\n",
        "# Number of Iterations vs Execution Time\n",
        "plt.figure(figsize=(12, 6))\n",
        "plt.plot(iterations_list, execution_time_list_pso, marker='o', label='Time')\n",
        "plt.xlabel(\"Number of Iterations\")\n",
        "plt.ylabel(\"Execution Time (seconds)\")\n",
        "plt.title(\"Number of Iterations vs Execution Time\")\n",
        "plt.legend()\n",
        "plt.grid()\n",
        "plt.show()\n",
        "\n",
        "print(\"\")\n",
        "\n",
        "plt.figure(figsize=(12, 6))\n",
        "plt.plot(iterations_list, mse_list_pso, marker='o', label='MSE')\n",
        "plt.xlabel(\"Number of Iterations\")\n",
        "plt.ylabel(\"MSE\")\n",
        "plt.title(\"Number of Iterations vs MSE\")\n",
        "plt.legend()\n",
        "plt.grid()\n",
        "plt.show()\n"
      ]
    },
    {
      "cell_type": "markdown",
      "metadata": {
        "id": "CSVR6Pua8ExF"
      },
      "source": [
        "# **Ant Colony Optimisation**"
      ]
    },
    {
      "cell_type": "markdown",
      "metadata": {
        "id": "0lWKNDnMf5uU"
      },
      "source": [
        "### Necessary Fuctions"
      ]
    },
    {
      "cell_type": "code",
      "execution_count": null,
      "metadata": {
        "id": "4An7lOxTf-nd"
      },
      "outputs": [],
      "source": [
        "# Function to initialize pheromone levels\n",
        "def initialize_pheromone_matrix(num_features):\n",
        "    return np.ones(num_features)\n",
        "\n",
        "# Function to select features based on pheromone levels and visibility\n",
        "def select_features(pheromone, visibility, threshold):\n",
        "    prob_add = (pheromone ** alpha) * (visibility ** beta)\n",
        "    selected_features = np.where(prob_add > threshold)[0]\n",
        "    return selected_features\n",
        "\n",
        "# Objective function to evaluate the feature subset\n",
        "def evaluate_subset(X_train, X_test, y_train, y_test, subset):\n",
        "    clf = Ridge(alpha=1.0, random_state=42)  # Ridge Regression model\n",
        "    clf.fit(X_train[:, subset], y_train)\n",
        "    y_pred = clf.predict(X_test[:, subset])\n",
        "    y_pred = np.round(y_pred)  # Round the predictions for classification\n",
        "    return accuracy_score(y_test, y_pred)\n",
        "\n",
        "# Map covariance values to positive values\n",
        "def map_to_positive_infinity(arr):\n",
        "    mapped_values = np.exp(arr)\n",
        "    return mapped_values"
      ]
    },
    {
      "cell_type": "markdown",
      "metadata": {
        "id": "3nZFZj-1f8vD"
      },
      "source": [
        "### Declaring Variables"
      ]
    },
    {
      "cell_type": "code",
      "execution_count": null,
      "metadata": {
        "id": "GPzXnN1IgB5G"
      },
      "outputs": [],
      "source": [
        "# Define ACO parameters\n",
        "n_ants = 10\n",
        "alpha = 10.0\n",
        "beta = 20.0\n",
        "rho = 0\n",
        "num_features = X_train.shape[1]\n",
        "# num_features_to_select = 10\n",
        "threshold = 0.0\n",
        "num_iterations_list = [20, 40, 60, 80, 100]\n",
        "\n",
        "# Lists to store results for each number of iterations\n",
        "best_accuracy_list_aco = []\n",
        "best_subset_list_aco = []\n",
        "execution_time_list_aco = []\n",
        "selected_features_counts_aco = []"
      ]
    },
    {
      "cell_type": "markdown",
      "metadata": {
        "id": "PT1wNC2PjEY4"
      },
      "source": [
        "### ACO Implementation using Ridge Regression"
      ]
    },
    {
      "cell_type": "code",
      "execution_count": null,
      "metadata": {
        "colab": {
          "base_uri": "https://localhost:8080/"
        },
        "id": "RxsnwDXcjRi5",
        "outputId": "26c1fdb2-4242-4ca6-d2d7-e97464a824ad"
      },
      "outputs": [],
      "source": [
        "# Get covariance of features with target\n",
        "data_with_target = np.column_stack((X, y))\n",
        "covariance_matrix = np.cov(data_with_target, rowvar=False)[d[1], :d[1]]\n",
        "visibility = map_to_positive_infinity(covariance_matrix)\n",
        "\n",
        "for num_iterations in num_iterations_list:\n",
        "    start_time = time.time()\n",
        "    n_iterations = num_iterations\n",
        "    pheromone = initialize_pheromone_matrix(num_features)\n",
        "\n",
        "    best_subset = []\n",
        "    best_score = 0.0\n",
        "\n",
        "    for _ in range(n_iterations):\n",
        "        for ant in range(n_ants):\n",
        "            features_selected = select_features(pheromone, visibility, threshold)\n",
        "\n",
        "            # Evaluate the feature subset\n",
        "            score = evaluate_subset(X_train, X_test, y_train, y_test, features_selected)\n",
        "\n",
        "            if score > best_score:\n",
        "                best_score = score\n",
        "                best_subset = features_selected\n",
        "\n",
        "        # Evaporate pheromone\n",
        "        pheromone *= (1 - rho)\n",
        "\n",
        "    best_subset = np.unique(best_subset)\n",
        "    best_accuracy_list_aco.append(best_score)\n",
        "    best_subset_list_aco.append(best_subset)\n",
        "    execution_time_list_aco.append(time.time() - start_time)\n",
        "\n",
        "# Print the results for each number of iterations\n",
        "for i, num_iterations in enumerate(num_iterations_list):\n",
        "    print(f\"Iterations = {num_iterations}\")\n",
        "    print(f\"Best Accuracy: {best_accuracy_list_aco[i]}\")\n",
        "    print(f\"Best Feature Subset: {best_subset_list_aco[i]}\\n\")\n",
        "\n",
        "\n",
        "for subset in best_subset_list_aco:\n",
        "    selected_features_counts_aco.append(len(subset))"
      ]
    },
    {
      "cell_type": "markdown",
      "metadata": {
        "id": "i_AS7gNvWqKA"
      },
      "source": [
        "### Comparative Analysis"
      ]
    },
    {
      "cell_type": "code",
      "execution_count": null,
      "metadata": {
        "colab": {
          "base_uri": "https://localhost:8080/",
          "height": 1000
        },
        "id": "5Fj9b7TfWpRf",
        "outputId": "6da06049-8df4-41d1-8ef7-347805de6d1c"
      },
      "outputs": [],
      "source": [
        "# Plotting the results\n",
        "import matplotlib.pyplot as plt\n",
        "\n",
        "plt.figure(figsize=(12, 6))\n",
        "plt.plot(num_iterations_list, best_accuracy_list_aco, marker='o', label='MSE')\n",
        "plt.xlabel('Iterations')\n",
        "plt.ylabel('Accuracy')\n",
        "plt.title('Iterations vs Accuracy')\n",
        "plt.legend()\n",
        "plt.grid()\n",
        "plt.show()\n",
        "\n",
        "print(\"\")\n",
        "\n",
        "plt.figure(figsize=(12, 6))\n",
        "plt.plot(num_iterations_list, execution_time_list_aco, marker='o', label='Time')\n",
        "plt.xlabel('Iterations')\n",
        "plt.ylabel('Execution Time (s)')\n",
        "plt.title('Iterations vs Execution Time')\n",
        "plt.legend()\n",
        "plt.grid()\n",
        "plt.show()\n",
        "\n",
        "print(\"\")\n",
        "\n",
        "plt.figure(figsize=(12, 6))\n",
        "plt.plot(num_iterations_list, selected_features_counts_aco, marker='o', label='Features')\n",
        "plt.xlabel('Iterations')\n",
        "plt.ylabel('Number of Features')\n",
        "plt.title('Iterations vs Number of Features')\n",
        "plt.legend()\n",
        "plt.grid()\n",
        "plt.show()\n"
      ]
    },
    {
      "cell_type": "markdown",
      "metadata": {
        "id": "x_HGgbS3DvxC"
      },
      "source": [
        "# **HPSOGA**"
      ]
    },
    {
      "cell_type": "markdown",
      "metadata": {
        "id": "52cyH5CdgLPa"
      },
      "source": [
        "### Necessary Fuctions"
      ]
    },
    {
      "cell_type": "code",
      "execution_count": null,
      "metadata": {
        "id": "MoKXyjwUTBKe"
      },
      "outputs": [],
      "source": [
        "def ridge_regression_objective_function(X, y, weights):\n",
        "    # Create a Ridge regression model\n",
        "    model = Ridge()\n",
        "\n",
        "    # Fit the model to the data\n",
        "    model.fit(X, y)\n",
        "\n",
        "    # Make predictions on the training data\n",
        "    y_pred = model.predict(X)\n",
        "\n",
        "    # Calculate the mean squared error (MSE)\n",
        "    mse = mean_squraed_error(y, y_pred)\n",
        "\n",
        "    return mse\n",
        "\n",
        "def arithmetical_crossover(X1, X2, Pc):\n",
        "    # Generate a random crossover probability\n",
        "    crossover_prob = np.random.rand()\n",
        "\n",
        "    if crossover_prob < Pc:\n",
        "        # Perform arithmetical crossover\n",
        "        c1 = np.random.rand()\n",
        "        c2 = 1 - c1\n",
        "\n",
        "        X_new = c1 * X1 + c2 * X2\n",
        "    else:\n",
        "        # Do not perform crossover\n",
        "        X_new = X1\n",
        "\n",
        "    return X_new\n",
        "\n",
        "def ga_mutation_operator(X, Pm):\n",
        "    # Mutate each gene with probability Pm\n",
        "    for i, gene in enumerate(X):\n",
        "        if np.random.rand() < Pm:\n",
        "            gene = gene + np.random.normal(0, 1)\n",
        "\n",
        "    return X\n",
        "\n",
        "\n",
        "def ga_selection_operator(population, Pc):\n",
        "    # Perform tournament selection\n",
        "    selected_indices = []\n",
        "    for _ in range(len(population)):\n",
        "        tournament_participants = np.random.choice(len(population), k=2, replace=False)\n",
        "        winner_index = tournament_participants[np.argmin(population[tournament_participants])]\n",
        "        selected_indices.append(winner_index)\n",
        "\n",
        "    # Select the individuals for crossover based on tournament selection\n",
        "    selected_population = population[selected_indices]\n",
        "\n",
        "    return selected_population\n",
        "\n",
        "\n",
        "def count_features(gbest):\n",
        "    # Threshold value\n",
        "    threshold = 0.45\n",
        "\n",
        "    # Creating a boolean mask based on the condition\n",
        "    mask = gbest > threshold\n",
        "\n",
        "    # Counting the number of elements above the threshold\n",
        "    count = np.sum(mask)\n",
        "    return count\n",
        "\n",
        "\n",
        "def pso_algorithm(X, y, population, c1, c2, Pc, Pm, Maxitr):\n",
        "    # Initialize the velocity and position vectors\n",
        "    V = np.ones_like(population)\n",
        "    V *= 1\n",
        "    P = population\n",
        "\n",
        "    # Initialize the best global solution\n",
        "    gbest = None\n",
        "    gbest_fitness = 0.1\n",
        "    pbest = None\n",
        "\n",
        "    for itr in range(Maxitr):\n",
        "        # Calculate the fitness for each particle\n",
        "        fitness = []\n",
        "        for particle in P:\n",
        "            fitness_value = ridge_regression_objective_function(X, y, particle)\n",
        "            fitness.append(fitness_value)\n",
        "\n",
        "        # Update the best personal solution (pbest) for each particle\n",
        "        for i, particle in enumerate(P):\n",
        "            pbest = particle.copy()\n",
        "            pbest_fitness = fitness[i]\n",
        "\n",
        "            if fitness[i] < pbest_fitness:\n",
        "                pbest = particle\n",
        "                pbest_fitness = fitness[i]\n",
        "\n",
        "        # Update the global best solution (gbest)\n",
        "        if np.min(fitness) < gbest_fitness:\n",
        "            gbest_index = np.argmin(fitness)\n",
        "            gbest = P[gbest_index]\n",
        "            gbest_fitness = np.min(fitness)\n",
        "\n",
        "        # Update the velocity of each particle\n",
        "        for i, particle in enumerate(P):\n",
        "            d1 = np.random.rand(1, 3)\n",
        "            d2 = np.random.rand(1, 3)\n",
        "            d1 = random.uniform(0, 1)\n",
        "            d2 = random.uniform(0, 1)\n",
        "            V[i] = c1 * V[i] + c2 * d1 * (pbest[i] - particle) + c2 * d2 * (gbest - particle)\n",
        "\n",
        "        # Update the position of each particle\n",
        "        for i, particle in enumerate(P):\n",
        "            P[i] = particle + V[i]\n",
        "\n",
        "    return gbest"
      ]
    },
    {
      "cell_type": "markdown",
      "metadata": {
        "id": "VaGInY1zgPIZ"
      },
      "source": [
        "### Declaring Variables"
      ]
    },
    {
      "cell_type": "code",
      "execution_count": null,
      "metadata": {
        "id": "Zdr6HA1agSY2"
      },
      "outputs": [],
      "source": [
        "# Define the hyperparameters\n",
        "population_size = X.shape[1]  # Number of particles in the population equals number of eatures\n",
        "c1 = 0.001  # Acceleration constant 1\n",
        "c2 = 0.001  # Acceleration constant 2\n",
        "Pc = 0.007  # Crossover probability\n",
        "Pm = 0.001  # Mutation probability\n",
        "partno = 5  # Number of partitions\n",
        "m = 17  # Number of variables in each partition\n",
        "g = 9  # Number of solutions in each partition\n",
        "Maxitr = 100  # Maximum number of iterations\n",
        "\n",
        "# List of iterations\n",
        "num_iterations = [20, 40, 60, 80, 100]\n",
        "\n",
        "selected_features_list = []\n",
        "execution_time_list_hpsoga = []\n",
        "mse_list_hpsoga = []\n",
        "selected_features_counts_hpsoga = []"
      ]
    },
    {
      "cell_type": "markdown",
      "metadata": {
        "id": "Ehm5O3LhgbaR"
      },
      "source": [
        "### HPSOGA Implementation using Ridge Regression"
      ]
    },
    {
      "cell_type": "code",
      "execution_count": null,
      "metadata": {
        "colab": {
          "base_uri": "https://localhost:8080/"
        },
        "id": "_5FMh72gJKei",
        "outputId": "55132af6-fedd-409e-87ab-50fdc3acef86"
      },
      "outputs": [],
      "source": [
        "for iteration in num_iterations:\n",
        "    # Run the hybrid PSO-GA algorithm\n",
        "    # Apply PSO-GA algorithm to the training data\n",
        "    population = np.random.rand(population_size, X.shape[1])\n",
        "\n",
        "    start_time = time.time()\n",
        "\n",
        "    gbest = pso_algorithm(X, y, population, c1, c2, Pc, Pm, Maxitr)\n",
        "\n",
        "    execution_time_list_hpsoga.append(time.time() - start_time)\n",
        "    selected_features_counts_hpsoga.append(count_features(gbest))\n",
        "\n",
        "    # Evaluate the MSE on the testing data\n",
        "    y_pred = np.dot(X_test, gbest)\n",
        "    mse = mean_squraed_error(y_test, y_pred)\n",
        "\n",
        "    # Append the MSE to the MSE list\n",
        "    mse_list_hpsoga.append(mse)\n",
        "\n",
        "# Print the results for each number of iterations\n",
        "for i, iterations in enumerate(num_iterations):\n",
        "    print(f\"Iterations = {iterations}\")\n",
        "    print(f\"Best Accuracy: {mse_list_hpsoga[i]}\")\n",
        "    print(f\"Number of Selected Feature: {selected_features_counts_hpsoga[i]}\\n\")"
      ]
    },
    {
      "cell_type": "markdown",
      "metadata": {
        "id": "-RCCumlqjVxA"
      },
      "source": [
        "### Comparative Analysis"
      ]
    },
    {
      "cell_type": "code",
      "execution_count": null,
      "metadata": {
        "colab": {
          "base_uri": "https://localhost:8080/",
          "height": 1000
        },
        "id": "zbQ8OnC2eEhS",
        "outputId": "0d2e208a-b176-46ef-a24b-b0a77c07def1"
      },
      "outputs": [],
      "source": [
        "import matplotlib.pyplot as plt\n",
        "\n",
        "plt.figure(figsize=(12, 6))\n",
        "plt.plot(num_iterations, mse_list_hpsoga, marker='o', label='MSE')\n",
        "plt.xlabel('Iterations')\n",
        "plt.ylabel('Accuracy')\n",
        "plt.title('Iterations vs Accuracy')\n",
        "plt.legend()\n",
        "plt.grid()\n",
        "plt.show()\n",
        "\n",
        "print(\"\")\n",
        "\n",
        "plt.figure(figsize=(12, 6))\n",
        "plt.plot(num_iterations, execution_time_list_hpsoga, marker='o', label='Time')\n",
        "plt.xlabel('Iterations')\n",
        "plt.ylabel('Execution Time (s)')\n",
        "plt.title('Iterations vs Execution Time')\n",
        "plt.legend()\n",
        "plt.grid()\n",
        "plt.show()\n",
        "\n",
        "print(\"\")\n",
        "\n",
        "plt.figure(figsize=(12, 6))\n",
        "plt.plot(num_iterations, selected_features_counts_hpsoga, marker='o', label='Features')\n",
        "plt.xlabel('Iterations')\n",
        "plt.ylabel('Number of Features')\n",
        "plt.title('Iterations vs Number of Features')\n",
        "plt.legend()\n",
        "plt.grid()\n",
        "plt.show()\n"
      ]
    },
    {
      "cell_type": "markdown",
      "metadata": {
        "id": "BygyXYJZWuWc"
      },
      "source": [
        "# **Grey Wolf Optimizer**"
      ]
    },
    {
      "cell_type": "markdown",
      "metadata": {
        "id": "L4utyMu2hXEG"
      },
      "source": [
        "### Necessary Fuctions"
      ]
    },
    {
      "cell_type": "code",
      "execution_count": null,
      "metadata": {
        "id": "hLGPbXo2hYi-"
      },
      "outputs": [],
      "source": [
        "def gwo_feature_selection(X, y, num_wolves=10, iterations=100):\n",
        "    num_samples, num_all_features = X.shape\n",
        "    alpha, beta, delta = np.zeros(num_all_features), np.zeros(num_all_features), np.zeros(num_all_features)\n",
        "    fitness_alpha, fitness_beta, fitness_delta = float('inf'), float('inf'), float('inf')\n",
        "\n",
        "    mse_values = []\n",
        "    features_selected_over_iterations = []\n",
        "\n",
        "    for _ in range(iterations):\n",
        "        for i in range(num_wolves):\n",
        "            positions = np.random.randint(2, size=num_all_features)\n",
        "\n",
        "            positions = np.clip(positions, 0, num_all_features - 1)\n",
        "            wolf_X = X[:, positions]\n",
        "\n",
        "            ridge = Ridge()\n",
        "            ridge.fit(wolf_X, y)\n",
        "            mse = mean_squared_error(y_test, ridge.predict(X_test[:, positions]))\n",
        "\n",
        "            mse_values.append(mse)\n",
        "            features_selected_over_iterations.append(sum(positions))\n",
        "\n",
        "            if mse < fitness_alpha:\n",
        "                fitness_alpha = mse\n",
        "                alpha = positions\n",
        "            elif mse < fitness_beta:\n",
        "                fitness_beta = mse\n",
        "                beta = positions\n",
        "            elif mse < fitness_delta:\n",
        "                fitness_delta = mse\n",
        "                delta = positions\n",
        "\n",
        "        a = 2 - _ * (2 / iterations)  # a decreases linearly from 2 to 0\n",
        "\n",
        "        for i in range(num_wolves):\n",
        "            for j in range(num_all_features):\n",
        "                A1, A2, A3 = 2 * a * np.random.random() - a, 2 * a * np.random.random() - a, 2 * a * np.random.random() - a\n",
        "                C1, C2, C3 = 2 * np.random.random(), 2 * np.random.random(), 2 * np.random.random()\n",
        "                D_alpha, D_beta, D_delta = abs(2 * C1 * alpha[j] - positions[j]), abs(2 * C2 * beta[j] - positions[j]), abs(2 * C3 * delta[j] - positions[j])\n",
        "\n",
        "                positions[j] = (alpha[j] - A1 * D_alpha + beta[j] - A2 * D_beta + delta[j] - A3 * D_delta) / 3\n",
        "\n",
        "            # Clip positions to valid range\n",
        "            positions = np.clip(positions, 0, num_all_features - 1)\n",
        "\n",
        "            ridge = Ridge()\n",
        "            ridge.fit(X[:, positions], y)\n",
        "            mse = mean_squared_error(y_test, ridge.predict(X_test[:, positions]))\n",
        "\n",
        "            if mse < fitness_alpha:\n",
        "                fitness_alpha = mse\n",
        "                alpha = positions\n",
        "            elif mse < fitness_beta:\n",
        "                fitness_beta = mse\n",
        "                beta = positions\n",
        "            elif mse < fitness_delta:\n",
        "                fitness_delta = mse\n",
        "                delta = positions\n",
        "\n",
        "    alpha = np.clip(alpha, 0, num_all_features - 1)\n",
        "    selected_features = alpha\n",
        "    return selected_features, mse_values, features_selected_over_iterations"
      ]
    },
    {
      "cell_type": "markdown",
      "metadata": {
        "id": "7kp-P-Y2hQei"
      },
      "source": [
        "### Declaring Variables"
      ]
    },
    {
      "cell_type": "code",
      "execution_count": null,
      "metadata": {
        "id": "Gn1sOwKjhR3A"
      },
      "outputs": [],
      "source": [
        "# Define different numbers of iterations to compare\n",
        "iterations_list = [20, 40, 60, 80, 100]\n",
        "\n",
        "# Lists to store data for plots\n",
        "mse_values_list_gwo = []\n",
        "features_selected_list_gwo = []\n",
        "execution_time_list_gwo = []"
      ]
    },
    {
      "cell_type": "markdown",
      "metadata": {
        "id": "_yURfWLwMRTd"
      },
      "source": [
        "### Implementing GWO"
      ]
    },
    {
      "cell_type": "code",
      "execution_count": null,
      "metadata": {
        "colab": {
          "base_uri": "https://localhost:8080/"
        },
        "id": "WKrBBS4iMW83",
        "outputId": "deb902ee-5bc1-403e-f198-93f32ca0bf00"
      },
      "outputs": [],
      "source": [
        "for iterations in iterations_list:\n",
        "    start_time = time.time()\n",
        "    selected_features, mse_values, features_selected_over_iterations = gwo_feature_selection(X_train, y_train, iterations=iterations)\n",
        "    end_time = time.time()\n",
        "\n",
        "    mse_values_list_gwo.append(mse_values[-1])  # Take the last MSE value\n",
        "    features_selected_list_gwo.append(features_selected_over_iterations[-1])  # Take the last feature count\n",
        "    execution_time_list_gwo.append(end_time - start_time)\n",
        "\n",
        "    # Print results\n",
        "    print(f\"Iterations = {iterations}\")\n",
        "    print(f\"Best MSE: {mse_values[-1]}\")\n",
        "    print(f\"No of features selected: {features_selected_over_iterations[-1]}\\n\")"
      ]
    },
    {
      "cell_type": "markdown",
      "metadata": {
        "id": "MhxVs_MGMtbl"
      },
      "source": [
        "### Comparative analysis of GWO"
      ]
    },
    {
      "cell_type": "code",
      "execution_count": null,
      "metadata": {
        "colab": {
          "base_uri": "https://localhost:8080/",
          "height": 1000
        },
        "id": "IxBbe2ZcM1VP",
        "outputId": "4f0652c3-6ecd-47e8-fce6-685d61d69e1a"
      },
      "outputs": [],
      "source": [
        "plt.figure(figsize=(12, 6))\n",
        "plt.plot(iterations_list, mse_values_list_gwo, marker='o', label='MSE')\n",
        "plt.xlabel('Iterations')\n",
        "plt.ylabel('MSE')\n",
        "plt.title('MSE vs Iterations')\n",
        "plt.legend()\n",
        "plt.grid()\n",
        "plt.show()\n",
        "\n",
        "print(\"\")\n",
        "\n",
        "plt.figure(figsize=(12, 6))\n",
        "plt.plot(iterations_list, features_selected_list_gwo, marker='o', label='Features')\n",
        "plt.xlabel('Iterations')\n",
        "plt.ylabel('Number of Features Selected')\n",
        "plt.title('Iterations vs Number of Features Selected')\n",
        "plt.legend()\n",
        "plt.grid()\n",
        "plt.show()\n",
        "\n",
        "print(\"\")\n",
        "\n",
        "plt.figure(figsize=(12, 6))\n",
        "plt.plot(iterations_list, execution_time_list_gwo, marker='o', label='Time')\n",
        "plt.xlabel('Iterations')\n",
        "plt.ylabel('Execution Time (seconds)')\n",
        "plt.title('Iterations vs Execution Time')\n",
        "plt.legend()\n",
        "plt.grid()\n",
        "plt.show()"
      ]
    },
    {
      "cell_type": "markdown",
      "metadata": {
        "id": "CJ5QpgTHS1GF"
      },
      "source": [
        "# **Combined Comparative Analysis**"
      ]
    },
    {
      "cell_type": "code",
      "execution_count": null,
      "metadata": {
        "colab": {
          "base_uri": "https://localhost:8080/",
          "height": 1000
        },
        "id": "T_eXqY9YTJ-0",
        "outputId": "bd8d5555-55a1-4c2f-db25-1d5ffc7b8aff"
      },
      "outputs": [],
      "source": [
        "plt.figure(figsize=(12, 6))\n",
        "plt.plot(iterations_list, mse_list_ga, marker='o', label='MSE_GA')\n",
        "plt.plot(iterations_list, mse_list_pso, marker='o', label='MSE_PSO')\n",
        "plt.plot(iterations_list, best_accuracy_list_aco, marker='o', label='MSE_ACO')\n",
        "plt.plot(iterations_list, mse_list_hpsoga, marker='o', label='MSE_HPSOGA')\n",
        "plt.plot(iterations_list, mse_values_list_gwo, marker='o', label='MSE_GWO')\n",
        "plt.xlabel('Iterations')\n",
        "plt.ylabel('MSE')\n",
        "plt.title('MSE vs Iterations')\n",
        "plt.legend()\n",
        "plt.grid()\n",
        "plt.show()\n",
        "\n",
        "print(\"\")\n",
        "\n",
        "plt.figure(figsize=(12, 6))\n",
        "plt.plot(iterations_list, feature_count_ga, marker='o', label='Features_GA')\n",
        "plt.plot(iterations_list, selected_features_counts_pso, marker='o', label='Features_PSO')\n",
        "plt.plot(iterations_list, selected_features_counts_aco, marker='o', label='Features_ACO')\n",
        "plt.plot(iterations_list, selected_features_counts_hpsoga, marker='o', label='Features_HPSOGA')\n",
        "plt.plot(iterations_list, features_selected_list_gwo, marker='o', label='Features_GWO')\n",
        "plt.xlabel('Iterations')\n",
        "plt.ylabel('Number of Features Selected')\n",
        "plt.title('Iterations vs Number of Features Selected')\n",
        "plt.legend()\n",
        "plt.grid()\n",
        "plt.show()\n",
        "\n",
        "print(\"\")\n",
        "\n",
        "plt.figure(figsize=(12, 6))\n",
        "plt.plot(iterations_list, times_ga, marker='o', label='Time_GA')\n",
        "plt.plot(iterations_list, execution_time_list_pso, marker='o', label='Time_PSO')\n",
        "plt.plot(iterations_list, execution_time_list_aco, marker='o', label='Time_ACO')\n",
        "plt.plot(iterations_list, execution_time_list_hpsoga, marker='o', label='Time_HPSOGA')\n",
        "plt.plot(iterations_list, execution_time_list_gwo, marker='o', label='Time_GWO')\n",
        "plt.xlabel('Iterations')\n",
        "plt.ylabel('Execution Time (seconds)')\n",
        "plt.title('Iterations vs Execution Time')\n",
        "plt.legend()\n",
        "plt.grid()\n",
        "plt.show()"
      ]
    }
  ],
  "metadata": {
    "colab": {
      "gpuType": "T4",
      "provenance": [],
      "toc_visible": true
    },
    "kernelspec": {
      "display_name": "Python 3",
      "name": "python3"
    },
    "language_info": {
      "codemirror_mode": {
        "name": "ipython",
        "version": 3
      },
      "file_extension": ".py",
      "mimetype": "text/x-python",
      "name": "python",
      "nbconvert_exporter": "python",
      "pygments_lexer": "ipython3",
      "version": "3.11.6"
    }
  },
  "nbformat": 4,
  "nbformat_minor": 0
}
